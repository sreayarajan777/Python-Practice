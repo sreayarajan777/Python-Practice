{
  "nbformat": 4,
  "nbformat_minor": 0,
  "metadata": {
    "colab": {
      "provenance": [],
      "authorship_tag": "ABX9TyOeBv4dPCHzMXJyDQvADnam",
      "include_colab_link": true
    },
    "kernelspec": {
      "name": "python3",
      "display_name": "Python 3"
    },
    "language_info": {
      "name": "python"
    }
  },
  "cells": [
    {
      "cell_type": "markdown",
      "metadata": {
        "id": "view-in-github",
        "colab_type": "text"
      },
      "source": [
        "<a href=\"https://colab.research.google.com/github/sreayarajan777/Python-Practice/blob/main/mst_python_week_2_assignment.ipynb\" target=\"_parent\"><img src=\"https://colab.research.google.com/assets/colab-badge.svg\" alt=\"Open In Colab\"/></a>"
      ]
    },
    {
      "cell_type": "markdown",
      "source": [
        "1. Write an interactive Python Program to implement following  “Guess Game”\n",
        "i.\n",
        "ii.\n",
        "iii.\n",
        "iv.\n",
        "v.\n",
        "Think of a number between 1 and 10 and store it in a variable called\n",
        "\"secretNumber\".\n",
        "Ask the user to enter a number between 1 and 10 and store it in a variable called\n",
        "\"guess\".\n",
        "Use control statements (if-else) to check if the guess is correct, higher, or lower\n",
        "than the secret number.\n",
        "Display appropriate messages to the user based on their guess:\n",
        "• If the guess is correct, display \"Congratulations! You guessed the number\n",
        "correctly!\"\n",
        "• If the guess is higher than the secret number, display \"Too high! Try\n",
        "again.\"\n",
        "• If the guess is lower than the secret number, display \"Too low! Try again.\"\n",
        "Allow the user to keep guessing until they guess the correct number."
      ],
      "metadata": {
        "id": "qkgY40UerIdw"
      }
    },
    {
      "cell_type": "code",
      "execution_count": null,
      "metadata": {
        "colab": {
          "base_uri": "https://localhost:8080/"
        },
        "id": "CCfJJoSAWWxQ",
        "outputId": "10338006-fd30-481a-b626-20f234f3da63"
      },
      "outputs": [
        {
          "output_type": "stream",
          "name": "stdout",
          "text": [
            "Enter a number between 1 and 10:6\n",
            "Too low! Try again.\n"
          ]
        }
      ],
      "source": [
        "SecretNumber=7\n",
        "Guess=int(input(\"Enter a number between 1 and 10:\"))\n",
        "if Guess==SecretNumber:\n",
        "  print(\"Congratulations! You guessed the number correctly!\")\n",
        "elif Guess>SecretNumber:\n",
        "  print(\"Too high! Try again.\")\n",
        "else:\n",
        "  print( \"Too low! Try again.\")"
      ]
    },
    {
      "cell_type": "code",
      "source": [
        "SecretNumber=7\n",
        "Guess=int(input(\"Enter a number between 1 and 10:\"))\n",
        "if Guess==SecretNumber:\n",
        "  print(\"Congratulations! You guessed the number correctly!\")\n",
        "elif Guess>SecretNumber:\n",
        "  print(\"Too high! Try again.\")\n",
        "else:\n",
        "  print( \"Too low! Try again.\")"
      ],
      "metadata": {
        "colab": {
          "base_uri": "https://localhost:8080/"
        },
        "id": "fvHp9RQrWjfG",
        "outputId": "278d0feb-199e-4d20-93df-ab94b7bef537"
      },
      "execution_count": null,
      "outputs": [
        {
          "output_type": "stream",
          "name": "stdout",
          "text": [
            "Enter a number between 1 and 10:8\n",
            "Too high! Try again.\n"
          ]
        }
      ]
    },
    {
      "cell_type": "code",
      "source": [
        "SecretNumber=7\n",
        "Guess=int(input(\"Enter a number between 1 and 10:\"))\n",
        "if Guess==SecretNumber:\n",
        "  print(\"Congratulations! You guessed the number correctly!\")\n",
        "elif Guess>SecretNumber:\n",
        "  print(\"Too high! Try again.\")\n",
        "else:\n",
        "  print( \"Too low! Try again.\")"
      ],
      "metadata": {
        "colab": {
          "base_uri": "https://localhost:8080/"
        },
        "id": "O8YNOEpzWrBT",
        "outputId": "d9223bbc-50ef-4ff6-a77c-3712d630b510"
      },
      "execution_count": null,
      "outputs": [
        {
          "output_type": "stream",
          "name": "stdout",
          "text": [
            "Enter a number between 1 and 10:7\n",
            "Congratulations! You guessed the number correctly!\n"
          ]
        }
      ]
    },
    {
      "cell_type": "markdown",
      "source": [
        " Write a program to find and print the Factorial of this number. The Factorial of a positive\n",
        "integer N refers to the product of all number in the range from 1 to N.  "
      ],
      "metadata": {
        "id": "U07HNeTQrRAd"
      }
    },
    {
      "cell_type": "code",
      "source": [
        "N = int(input(\"Enter a positive integer:\"))\n",
        "fact=1\n",
        "for i in range(1,N+1):\n",
        "\n",
        "  fact*=i\n",
        "print(f\"the factorial of {N} is\",fact)\n"
      ],
      "metadata": {
        "colab": {
          "base_uri": "https://localhost:8080/"
        },
        "id": "Xrhgsi61rpVd",
        "outputId": "741dae7d-4e33-4979-89c6-2be5785168a1"
      },
      "execution_count": 61,
      "outputs": [
        {
          "output_type": "stream",
          "name": "stdout",
          "text": [
            "Enter a positive integer:5\n",
            "the factorial of 5 is 120\n"
          ]
        }
      ]
    },
    {
      "cell_type": "markdown",
      "source": [
        " Roy wants to change his profile picture on Facebook. Now Facebook has some\n",
        "restriction over the dimension of picture that we can upload.\n",
        "Minimum dimension of the picture can be L x L, where L is the length of the side\n",
        "of square. Now Roy has N photos of various dimensions.\n",
        "Dimension of a photo is denoted as W x H\n",
        "where W - width of the photo and H - Height of the photo\n",
        "• When any photo is uploaded following events may occur:\n",
        "[1] If any of the width or height is less than L, user is prompted to upload another\n",
        "one. Print \"UPLOAD ANOTHER\" in this case.\n",
        "[2] If width and height, both are large enough and\n",
        "(a) if the photo is already square then it is accepted. Print \"ACCEPTED\" in this\n",
        "case.\n",
        "(b) else user is prompted to crop it. Print \"CROP IT\" in this case.\n",
        "Given L, N, W and H as input, write a program to print appropriate text as output."
      ],
      "metadata": {
        "id": "2mFCw7CltbYP"
      }
    },
    {
      "cell_type": "code",
      "source": [
        "L = int(input(\"Enter the dimension L:\"))\n",
        "N=int(input(\"Enter no. of photos:\"))\n",
        "for _ in range(N):\n",
        "  W,H=map(int,input(\"Enter width and height:\").split())\n",
        "  if W < L or H < L:\n",
        "        print(\"UPLOAD ANOTHER\")\n",
        "  elif W == H:\n",
        "        print(\"ACCEPTED\")\n",
        "  else:\n",
        "        print(\"CROP IT\")\n",
        "\n"
      ],
      "metadata": {
        "colab": {
          "base_uri": "https://localhost:8080/"
        },
        "id": "qkoNwPBDi3g1",
        "outputId": "b20347fc-7a3d-483b-ba01-9037d84cbfff"
      },
      "execution_count": 63,
      "outputs": [
        {
          "output_type": "stream",
          "name": "stdout",
          "text": [
            "Enter the dimension L:180\n",
            "Enter no. of photos:3\n",
            "Enter width and height:180 180\n",
            "ACCEPTED\n",
            "Enter width and height:167 189\n",
            "UPLOAD ANOTHER\n",
            "Enter width and height:230 189\n",
            "CROP IT\n"
          ]
        }
      ]
    }
  ]
}