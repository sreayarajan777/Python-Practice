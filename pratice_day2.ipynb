{
  "nbformat": 4,
  "nbformat_minor": 0,
  "metadata": {
    "colab": {
      "provenance": [],
      "authorship_tag": "ABX9TyO541et2XE4MLzyRmL4Nzm+"
    },
    "kernelspec": {
      "name": "python3",
      "display_name": "Python 3"
    },
    "language_info": {
      "name": "python"
    }
  },
  "cells": [
    {
      "cell_type": "code",
      "execution_count": null,
      "metadata": {
        "id": "8jPoXjs7b-Yv"
      },
      "outputs": [],
      "source": []
    },
    {
      "cell_type": "markdown",
      "source": [
        "1. Write a program to find sum of all elements in a list of integers.\n",
        "2. Input a sentence as a string.\n",
        "a) Print its length\n",
        "b) Print the first half of string\n",
        "3. Write a program to enter a tuple of integers as\n",
        "(78,45,32,19,82,77,40,39). Change the third value in the tuple to\n",
        "100\n",
        "4. Consider a list listA=[19,32,10,55,31,32,94,29,10,65,77,40,40]\n",
        "(a) Delete the first occurrence of 32\n",
        "(b) Delete all occurrences of 40\n",
        "(c) Delete the value at index=5\n",
        "(d) Modify the value at index=9 as 300\n",
        "(e) Add 200 at index=2\n",
        "(f) Print the final list with its length, maximum value\n",
        "and sum of all elements\n",
        "5. Consider a string ”The day has been long”.\n",
        "(a) Delete the value at index =4\n",
        "(b) Print the string 4 times in a single line with space\n",
        "between each repetition\n",
        "(c) Print the string 3 times in a new line each time\n",
        "(d) Modify the string at index 7 as ’A’\n",
        "(e) Print the string from index 4 to 15\n",
        "(f) Print the final string with its length"
      ],
      "metadata": {
        "id": "uh05ewStb_Em"
      }
    },
    {
      "cell_type": "code",
      "source": [
        "\n",
        "numbers=[4,8,23,90,41,7,1,9,3]\n",
        "print(sum(numbers))\n",
        "\n",
        "\n"
      ],
      "metadata": {
        "colab": {
          "base_uri": "https://localhost:8080/"
        },
        "id": "Kdi4EF0gcBHe",
        "outputId": "9ffb510b-abac-4727-822c-28671dc60f0c"
      },
      "execution_count": null,
      "outputs": [
        {
          "output_type": "stream",
          "name": "stdout",
          "text": [
            "186\n"
          ]
        }
      ]
    },
    {
      "cell_type": "code",
      "source": [
        "string=(input(\"Enter a sentence:\"))\n",
        "print(len(string))\n",
        "half = len(string) // 2\n",
        "print(string[:half])"
      ],
      "metadata": {
        "colab": {
          "base_uri": "https://localhost:8080/"
        },
        "id": "sQS6bzS-ebag",
        "outputId": "16f03e93-6cb2-48db-e716-1f9e350f183c"
      },
      "execution_count": null,
      "outputs": [
        {
          "output_type": "stream",
          "name": "stdout",
          "text": [
            "Enter a sentence:Python is easy to learn.\n",
            "24\n",
            "Python is ea\n"
          ]
        }
      ]
    },
    {
      "cell_type": "code",
      "source": [
        "\n",
        "my_tuple=(78,45,32,19,82,77,40,39)\n",
        "tuple1=list(my_tuple)\n",
        "tuple1[2]=100\n",
        "my_tuple=tuple(tuple1)\n",
        "print(my_tuple)"
      ],
      "metadata": {
        "colab": {
          "base_uri": "https://localhost:8080/"
        },
        "id": "6Wd-ve5m28jE",
        "outputId": "fc204f42-8e8f-442b-9ec8-256d8f5fe433"
      },
      "execution_count": null,
      "outputs": [
        {
          "output_type": "stream",
          "name": "stdout",
          "text": [
            "(78, 45, 100, 19, 82, 77, 40, 39)\n"
          ]
        }
      ]
    },
    {
      "cell_type": "code",
      "source": [
        "A=[19,32,10,55,31,32,94,29,10,65,77,40,40]\n",
        "A.remove(32)\n",
        "A.pop()\n",
        "A.pop(5)\n",
        "A[9]=300\n",
        "A.insert(2,200)\n",
        "print(len(A))\n",
        "print(max(A))\n",
        "print(sum(A))\n",
        "print(A)\n"
      ],
      "metadata": {
        "colab": {
          "base_uri": "https://localhost:8080/"
        },
        "id": "YOmXr2jBWFF5",
        "outputId": "98d608f1-583f-4f2c-bf33-7e4943d18c91"
      },
      "execution_count": null,
      "outputs": [
        {
          "output_type": "stream",
          "name": "stdout",
          "text": [
            "11\n",
            "300\n",
            "828\n",
            "[19, 10, 200, 55, 31, 32, 29, 10, 65, 77, 300]\n"
          ]
        }
      ]
    },
    {
      "cell_type": "code",
      "source": [
        "\n",
        "string= \"The day has been long\"\n",
        "delete=string[:4] + string[5:]\n",
        "print(delete)\n",
        "print(((string +\" \")*4).strip())\n",
        "print((string +\"\\n \")*3)\n",
        "modify=string[:8] + \"A\" + string[9:]\n",
        "print(modify)\n",
        "print(string[4:16])\n",
        "print(len(string))\n",
        "\n"
      ],
      "metadata": {
        "colab": {
          "base_uri": "https://localhost:8080/"
        },
        "id": "6YbSZV3qaayl",
        "outputId": "b6a59681-a3b8-4c1a-ef74-48291125feef"
      },
      "execution_count": 26,
      "outputs": [
        {
          "output_type": "stream",
          "name": "stdout",
          "text": [
            "The ay has been long\n",
            "The day has been long The day has been long The day has been long The day has been long\n",
            "The day has been long\n",
            " The day has been long\n",
            " The day has been long\n",
            " \n",
            "The day Aas been long\n",
            "day has been\n",
            "21\n"
          ]
        }
      ]
    },
    {
      "cell_type": "code",
      "source": [],
      "metadata": {
        "id": "AQyAoTVNNXhU"
      },
      "execution_count": 22,
      "outputs": []
    },
    {
      "cell_type": "code",
      "source": [
        "\n"
      ],
      "metadata": {
        "id": "vO_sh6NTS4yq"
      },
      "execution_count": 22,
      "outputs": []
    }
  ]
}