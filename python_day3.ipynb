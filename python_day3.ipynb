{
  "nbformat": 4,
  "nbformat_minor": 0,
  "metadata": {
    "colab": {
      "provenance": [],
      "authorship_tag": "ABX9TyNdA65g4gGMzKJ2iq6We9AV"
    },
    "kernelspec": {
      "name": "python3",
      "display_name": "Python 3"
    },
    "language_info": {
      "name": "python"
    }
  },
  "cells": [
    {
      "cell_type": "markdown",
      "source": [
        "Given the participants' score sheet for your University Sports Day, you are required to find the runner-up score. You are given scores. Store them in a list and find the score of the runner-up. (Create an array of scores and print the runner up score)\n"
      ],
      "metadata": {
        "id": "cXq5ULyxC8eo"
      }
    },
    {
      "cell_type": "code",
      "source": [
        "scores=[90,89,86,82,60,75,90,]\n",
        "duplicate_score=list(dict.fromkeys(scores))\n",
        "duplicate_score.remove(90)\n",
        "runner_up=list(duplicate_score)\n",
        "runner_up=max(duplicate_score)\n",
        "\n",
        "print(runner_up)\n",
        "\n",
        "\n"
      ],
      "metadata": {
        "colab": {
          "base_uri": "https://localhost:8080/"
        },
        "id": "exOgnZ9iC-Y2",
        "outputId": "aea2000f-900c-4fd1-a697-ae2542213b82"
      },
      "execution_count": 16,
      "outputs": [
        {
          "output_type": "stream",
          "name": "stdout",
          "text": [
            "89\n"
          ]
        }
      ]
    },
    {
      "cell_type": "markdown",
      "source": [
        "A dictionary is given D={‘John’ [25,32,43],’Peter’:[87,55,96],’Ram’:[58,55,43],’Meena’:[63,79,85]} Get a name from user if the name in the dictionary change the values corresponding to that user to [88,77,99] and print the dictionary. Else print ‘Name not found’."
      ],
      "metadata": {
        "id": "zXwVBfxkMyaq"
      }
    },
    {
      "cell_type": "code",
      "source": [
        "D={\"John\":[25,32,43],\"Peter\":[87,55,96],\"Ram\":[58,55,43],\"Meena\":[63,79,85]}\n",
        "name=input(\"please choose a name:\").capitalize()\n",
        "if name in D:\n",
        "  D.update({name:[88,77,99]})\n",
        "  print(D)\n",
        "\n",
        "else:\n",
        "  print(\"Name Not Found\")\n",
        "\n"
      ],
      "metadata": {
        "colab": {
          "base_uri": "https://localhost:8080/"
        },
        "id": "iRhp7eCYMziv",
        "outputId": "397b4da0-9d53-4611-9e7c-6a37e7f82b93"
      },
      "execution_count": 43,
      "outputs": [
        {
          "output_type": "stream",
          "name": "stdout",
          "text": [
            "please choose a name:john\n",
            "{'John': [88, 77, 99], 'Peter': [87, 55, 96], 'Ram': [58, 55, 43], 'Meena': [63, 79, 85]}\n"
          ]
        }
      ]
    },
    {
      "cell_type": "markdown",
      "source": [
        "Ticket Price Calculator: I. Ask the user to enter their age. II.\n",
        "Use control statements (if-elif-else) to calculate the ticket price based on the following conditions: a. If the age is below 5, the ticket price is free. b. If the age is between 5 and 12 (inclusive), the ticket price is Rs.10. c. If the age is above 12, the ticket price is Rs.50. d. If the age is above 60, the ticket price is free. e. If the gender is female, the ticket price is 50% of the applicable rates. III. Display the ticket price to the user."
      ],
      "metadata": {
        "id": "h9bjAgyiM4d6"
      }
    },
    {
      "cell_type": "code",
      "source": [
        "price=0\n",
        "Age =int(input(\"Enter your age:\"))\n",
        "if Age<5:\n",
        "  price=0\n",
        "elif 5<=Age<=12:\n",
        "  price=10\n",
        "elif Age>12 and Age<=60:\n",
        "  price=50\n",
        "else:\n",
        "  price=0\n",
        "gender=input(\"choose female or male:\").lower()\n",
        "if gender==\"female\":\n",
        "  discount=price * 50/100\n",
        "  t_price=price-discount\n",
        "  print(f\"The total bill is {t_price}.\")\n",
        "else:\n",
        "   print(f\"The total bill is {price}.\")\n",
        "\n",
        "\n"
      ],
      "metadata": {
        "colab": {
          "base_uri": "https://localhost:8080/"
        },
        "id": "BbI8DatWM51I",
        "outputId": "9d2d1d3f-232d-443a-ac72-a8a480cd56c0"
      },
      "execution_count": 15,
      "outputs": [
        {
          "output_type": "stream",
          "name": "stdout",
          "text": [
            "Enter your age:15\n",
            "choose female or male:FEMALE\n",
            "The total bill is 25.0.\n"
          ]
        }
      ]
    }
  ]
}