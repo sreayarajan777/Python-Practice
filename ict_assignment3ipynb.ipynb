{
  "nbformat": 4,
  "nbformat_minor": 0,
  "metadata": {
    "colab": {
      "provenance": [],
      "authorship_tag": "ABX9TyOglVSBsd4NbwfpgVOViqyB",
      "include_colab_link": true
    },
    "kernelspec": {
      "name": "python3",
      "display_name": "Python 3"
    },
    "language_info": {
      "name": "python"
    }
  },
  "cells": [
    {
      "cell_type": "markdown",
      "metadata": {
        "id": "view-in-github",
        "colab_type": "text"
      },
      "source": [
        "<a href=\"https://colab.research.google.com/github/sreayarajan777/Python-Practice/blob/main/ict_assignment3ipynb.ipynb\" target=\"_parent\"><img src=\"https://colab.research.google.com/assets/colab-badge.svg\" alt=\"Open In Colab\"/></a>"
      ]
    },
    {
      "cell_type": "markdown",
      "source": [
        " 1. Write a function that returns the middle value among three integers.Write code to test this"
      ],
      "metadata": {
        "id": "bIQnuUjTpSRO"
      }
    },
    {
      "cell_type": "code",
      "source": [
        "def middle_value(x, y, z):\n",
        "    if (x > y and x < z) or (x < y and x > z):\n",
        "        return x\n",
        "    elif (y > x and y < z) or (y < x and y > z):\n",
        "        return y\n",
        "    else:\n",
        "        return z\n",
        "\n",
        "a = int(input(\"Enter first number: \"))\n",
        "b = int(input(\"Enter second number: \"))\n",
        "c = int(input(\"Enter third number: \"))\n",
        "\n",
        "print(\"The middle value is:\", middle_value(a, b, c))\n"
      ],
      "metadata": {
        "colab": {
          "base_uri": "https://localhost:8080/"
        },
        "id": "5h4aQZM4pS93",
        "outputId": "d6d054cb-a08f-492f-c034-451602c7927f"
      },
      "execution_count": 6,
      "outputs": [
        {
          "output_type": "stream",
          "name": "stdout",
          "text": [
            "Enter first number: 7\n",
            "Enter second number: 3\n",
            "Enter third number: 90\n",
            "The middle value is: 7\n"
          ]
        }
      ]
    },
    {
      "cell_type": "markdown",
      "source": [
        "Build a calculator in Python using functions"
      ],
      "metadata": {
        "id": "a4wqIjeeyJfx"
      }
    },
    {
      "cell_type": "code",
      "source": [
        "def sum(x,y):\n",
        "  return x+y\n",
        "def sub(x,y):\n",
        "  return x-y\n",
        "def mul(x,y):\n",
        "  return x*y\n",
        "def div(x,y):\n",
        "  return x/y\n",
        "operations={\"+\":sum,\n",
        "           \"-\":sub,\n",
        "           \"*\":mul,\n",
        "           \"/\":div}\n",
        "first_num=float(input(\"Enter The First Number:\"))\n",
        "for keys in operations:\n",
        "  print(keys)\n",
        "operator=(input(\"Select a operator +,-,*,/:\"))\n",
        "second_num=float(input(\"Enter The Second Number:\"))\n",
        "if operator in operations:\n",
        "  result=operations[operator](first_num,second_num)\n",
        "  print(f\"The Result is {result}\")\n",
        "else:\n",
        "  print(\"Invalid Operator\")"
      ],
      "metadata": {
        "colab": {
          "base_uri": "https://localhost:8080/"
        },
        "id": "VLn86IyL3nAU",
        "outputId": "ddd8aab1-dd2d-4cef-d240-4eea2bb19481"
      },
      "execution_count": 15,
      "outputs": [
        {
          "output_type": "stream",
          "name": "stdout",
          "text": [
            "Enter The First Number:25\n",
            "+\n",
            "-\n",
            "*\n",
            "/\n",
            "Select a operator +,-,*,/:+\n",
            "Enter The Second Number:50\n",
            "The Result is 75.0\n"
          ]
        }
      ]
    },
    {
      "cell_type": "code",
      "source": [
        "def sum(x,y):\n",
        "  return x+y\n",
        "def sub(x,y):\n",
        "  return x-y\n",
        "def mul(x,y):\n",
        "  return x*y\n",
        "def div(x,y):\n",
        "  return x/y\n",
        "operations={\"+\":sum,\n",
        "           \"-\":sub,\n",
        "           \"*\":mul,\n",
        "           \"/\":div}\n",
        "first_num=float(input(\"Enter The First Number:\"))\n",
        "for keys in operations:\n",
        "  print(keys)\n",
        "operator=(input(\"Select a operator +,-,*,/:\"))\n",
        "second_num=float(input(\"Enter The Second Number:\"))\n",
        "if operator in operations:\n",
        "  result=operations[operator](first_num,second_num)\n",
        "  print(f\"The Result is {result}\")\n",
        "else:\n",
        "  print(\"Invalid Operator\")\n"
      ],
      "metadata": {
        "colab": {
          "base_uri": "https://localhost:8080/"
        },
        "id": "ncU_HQZXwV7E",
        "outputId": "83a57005-2cdf-48c8-d7c2-77e5dcd82285"
      },
      "execution_count": 9,
      "outputs": [
        {
          "output_type": "stream",
          "name": "stdout",
          "text": [
            "Enter The First Number:5\n",
            "+\n",
            "-\n",
            "*\n",
            "/\n",
            "Select a operator +,-,*,/:-\n",
            "Enter The Second Number:2\n",
            "The Result is 3.0\n"
          ]
        }
      ]
    },
    {
      "cell_type": "code",
      "source": [
        "def sum(x,y):\n",
        "  return x+y\n",
        "def sub(x,y):\n",
        "  return x-y\n",
        "def mul(x,y):\n",
        "  return x*y\n",
        "def div(x,y):\n",
        "  return x/y\n",
        "operations={\"+\":sum,\n",
        "           \"-\":sub,\n",
        "           \"*\":mul,\n",
        "           \"/\":div}\n",
        "first_num=float(input(\"Enter The First Number:\"))\n",
        "for keys in operations:\n",
        "  print(keys)\n",
        "operator=(input(\"Select a operator +,-,*,/:\"))\n",
        "second_num=float(input(\"Enter The Second Number:\"))\n",
        "if operator in operations:\n",
        "  result=operations[operator](first_num,second_num)\n",
        "  print(f\"The Result is {result}\")\n",
        "else:\n",
        "  print(\"Invalid Operator\")"
      ],
      "metadata": {
        "colab": {
          "base_uri": "https://localhost:8080/"
        },
        "id": "VKl9lx3t3s4A",
        "outputId": "06fc54e1-fee0-45eb-8632-899cea9e258f"
      },
      "execution_count": 16,
      "outputs": [
        {
          "output_type": "stream",
          "name": "stdout",
          "text": [
            "Enter The First Number:12\n",
            "+\n",
            "-\n",
            "*\n",
            "/\n",
            "Select a operator +,-,*,/:*\n",
            "Enter The Second Number:5\n",
            "The Result is 60.0\n"
          ]
        }
      ]
    },
    {
      "cell_type": "code",
      "source": [
        "def sum(x,y):\n",
        "  return x+y\n",
        "def sub(x,y):\n",
        "  return x-y\n",
        "def mul(x,y):\n",
        "  return x*y\n",
        "def div(x,y):\n",
        "  return x/y\n",
        "operations={\"+\":sum,\n",
        "           \"-\":sub,\n",
        "           \"*\":mul,\n",
        "           \"/\":div}\n",
        "first_num=float(input(\"Enter The First Number:\"))\n",
        "for keys in operations:\n",
        "  print(keys)\n",
        "operator=(input(\"Select a operator +,-,*,/:\"))\n",
        "second_num=float(input(\"Enter The Second Number:\"))\n",
        "if operator in operations:\n",
        "  result=operations[operator](first_num,second_num)\n",
        "  print(f\"The Result is {result}\")\n",
        "else:\n",
        "  print(\"Invalid Operator\")"
      ],
      "metadata": {
        "colab": {
          "base_uri": "https://localhost:8080/"
        },
        "id": "iBy5rpvg3yC4",
        "outputId": "1d43e58d-3498-4af2-8ef9-e6c8a7a7ed2b"
      },
      "execution_count": 17,
      "outputs": [
        {
          "output_type": "stream",
          "name": "stdout",
          "text": [
            "Enter The First Number:1000\n",
            "+\n",
            "-\n",
            "*\n",
            "/\n",
            "Select a operator +,-,*,/:/\n",
            "Enter The Second Number:100\n",
            "The Result is 10.0\n"
          ]
        }
      ]
    },
    {
      "cell_type": "code",
      "source": [
        "def sum(x,y):\n",
        "  return x+y\n",
        "def sub(x,y):\n",
        "  return x-y\n",
        "def mul(x,y):\n",
        "  return x*y\n",
        "def div(x,y):\n",
        "  return x/y\n",
        "operations={\"+\":sum,\n",
        "           \"-\":sub,\n",
        "           \"*\":mul,\n",
        "           \"/\":div}\n",
        "first_num=float(input(\"Enter The First Number:\"))\n",
        "for keys in operations:\n",
        "  print(keys)\n",
        "operator=(input(\"Select a operator +,-,*,/:\"))\n",
        "second_num=float(input(\"Enter The Second Number:\"))\n",
        "if operator in operations:\n",
        "  result=operations[operator](first_num,second_num)\n",
        "  print(f\"The Result is {result}\")\n",
        "else:\n",
        "  print(\"Invalid Operator\")"
      ],
      "metadata": {
        "colab": {
          "base_uri": "https://localhost:8080/"
        },
        "id": "8ZmHunEA32g3",
        "outputId": "1e352562-a7ae-43d1-baf4-3a95969be175"
      },
      "execution_count": 18,
      "outputs": [
        {
          "output_type": "stream",
          "name": "stdout",
          "text": [
            "Enter The First Number:7\n",
            "+\n",
            "-\n",
            "*\n",
            "/\n",
            "Select a operator +,-,*,/:**\n",
            "Enter The Second Number:3\n",
            "Invalid Operator\n"
          ]
        }
      ]
    },
    {
      "cell_type": "markdown",
      "source": [
        "Write a function that takes the lengths of the two shorter sides of a right triangle as its parameters. Return the hypotenuse of the triangle, computed using Pythagorean theorem, as the function’s result."
      ],
      "metadata": {
        "id": "u0AKTKKJ1mnc"
      }
    },
    {
      "cell_type": "code",
      "source": [
        "def hypotenuse(a, b):\n",
        "    return (a**2 + b**2)**0.5\n",
        "\n",
        "a = float(input(\"Enter first side: \"))\n",
        "b = float(input(\"Enter second side: \"))\n",
        "\n",
        "hypotenuse(a, b)\n"
      ],
      "metadata": {
        "colab": {
          "base_uri": "https://localhost:8080/"
        },
        "id": "2VWLD_el1mZD",
        "outputId": "fa5fe738-07eb-4eaa-adee-e12b381c05eb"
      },
      "execution_count": 10,
      "outputs": [
        {
          "name": "stdout",
          "output_type": "stream",
          "text": [
            "Enter first side: 3\n",
            "Enter second side: 4\n"
          ]
        },
        {
          "output_type": "execute_result",
          "data": {
            "text/plain": [
              "5.0"
            ]
          },
          "metadata": {},
          "execution_count": 10
        }
      ]
    },
    {
      "cell_type": "markdown",
      "source": [
        "The Rectangle problem (a) Write a Rectangle class in Python language, allowing you to build a rectangle with length and width attributes. (b) Create a Perimeter() method to calculate the perimeter of the rectangle and a Area() method to calculate the area of the rectangle. (c) Create a method display() that display the length, width, perimeter and area of an object created using an instantiation on rectangle class."
      ],
      "metadata": {
        "id": "3RYc9VRD2hPG"
      }
    },
    {
      "cell_type": "code",
      "source": [
        "class Rectangle:\n",
        "    def __init__(self, length, width):\n",
        "        self.length = length\n",
        "        self.width = width\n",
        "\n",
        "    def Perimeter(self):\n",
        "        return 2 * (self.length + self.width)\n",
        "\n",
        "    def Area(self):\n",
        "        return self.length * self.width\n",
        "\n",
        "    def display(self):\n",
        "        print(\"Length:\", self.length)\n",
        "        print(\"Width:\", self.width)\n",
        "        print(\"Perimeter:\", self.Perimeter())\n",
        "        print(\"Area:\", self.Area())\n",
        "\n",
        "\n",
        "l = float(input(\"Enter length: \"))\n",
        "w = float(input(\"Enter width: \"))\n",
        "\n",
        "rect = Rectangle(l, w)\n",
        "\n",
        "rect.display()\n"
      ],
      "metadata": {
        "colab": {
          "base_uri": "https://localhost:8080/"
        },
        "id": "T7xUe1pi2f34",
        "outputId": "32b52184-c3c3-49e1-b5ac-dd05b0502a6a"
      },
      "execution_count": 12,
      "outputs": [
        {
          "output_type": "stream",
          "name": "stdout",
          "text": [
            "Enter length: 6 \n",
            "Enter width: 3\n",
            "Length: 6.0\n",
            "Width: 3.0\n",
            "Perimeter: 18.0\n",
            "Area: 18.0\n"
          ]
        }
      ]
    },
    {
      "cell_type": "markdown",
      "source": [
        "The Bank Account problem (a) Create a Python class called BankAccount which represents a bank account, having as attributes: accountNumber (numeric type), name (name of the account owner as string type), balance. (b) Create a constructor with parameters: accountNumber, name, balance. (c) Create a Deposit() method which manages the deposit actions. (d) Create a Withdrawal() method which manages withdrawals actions. (e) Create an bankFees() method to apply the bank fees with a percentage of 5% of the balance account. (f) Create a display() method to display account details. ICT Academy Kerala/Practice Sessions/Assignment 3"
      ],
      "metadata": {
        "id": "kbg_wkQ73Bx3"
      }
    },
    {
      "cell_type": "code",
      "source": [
        "class BankAccount:\n",
        "    def __init__(self, accountNumber, name, balance):\n",
        "        self.accountNumber = accountNumber\n",
        "        self.name = name\n",
        "        self.balance = balance\n",
        "\n",
        "    def Deposit(self, amount):\n",
        "        self.balance += amount\n",
        "\n",
        "    def Withdrawal(self, amount):\n",
        "        if amount <= self.balance:\n",
        "            self.balance -= amount\n",
        "        else:\n",
        "            print(\"Insufficient balance\")\n",
        "\n",
        "    def bankFees(self):\n",
        "        self.balance -= self.balance * 0.05\n",
        "\n",
        "    def display(self):\n",
        "        print(\"Account Number:\", self.accountNumber)\n",
        "        print(\"Account Holder:\", self.name)\n",
        "        print(\"Balance:\", self.balance)\n",
        "\n",
        "\n",
        "acc_number = int(input(\"Enter account number: \"))\n",
        "acc_name = input(\"Enter account holder name: \")\n",
        "acc_balance = float(input(\"Enter initial balance: \"))\n",
        "\n",
        "account = BankAccount(acc_number, acc_name, acc_balance)\n",
        "\n",
        "dep = float(input(\"Enter amount to deposit: \"))\n",
        "account.Deposit(dep)\n",
        "\n",
        "wd = float(input(\"Enter amount to withdraw: \"))\n",
        "account.Withdrawal(wd)\n",
        "\n",
        "account.bankFees()\n",
        "account.display()\n"
      ],
      "metadata": {
        "colab": {
          "base_uri": "https://localhost:8080/"
        },
        "id": "k402RqFG2f0Z",
        "outputId": "bfc2a812-fcf5-4083-e9b0-224b44d724ee"
      },
      "execution_count": 13,
      "outputs": [
        {
          "output_type": "stream",
          "name": "stdout",
          "text": [
            "Enter account number: 789670\n",
            "Enter account holder name: Arun\n",
            "Enter initial balance: 8600\n",
            "Enter amount to deposit: 2500\n",
            "Enter amount to withdraw: 12500\n",
            "Insufficient balance\n",
            "Account Number: 789670\n",
            "Account Holder: Arun\n",
            "Balance: 10545.0\n"
          ]
        }
      ]
    },
    {
      "cell_type": "code",
      "source": [
        "class BankAccount:\n",
        "    def __init__(self, accountNumber, name, balance):\n",
        "        self.accountNumber = accountNumber\n",
        "        self.name = name\n",
        "        self.balance = balance\n",
        "\n",
        "    def Deposit(self, amount):\n",
        "        self.balance += amount\n",
        "\n",
        "    def Withdrawal(self, amount):\n",
        "        if amount <= self.balance:\n",
        "            self.balance -= amount\n",
        "        else:\n",
        "            print(\"Insufficient balance\")\n",
        "\n",
        "    def bankFees(self):\n",
        "        self.balance -= self.balance * 0.05\n",
        "\n",
        "    def display(self):\n",
        "        print(\"Account Number:\", self.accountNumber)\n",
        "        print(\"Account Holder:\", self.name)\n",
        "        print(\"Balance:\", self.balance)\n",
        "\n",
        "\n",
        "acc_number = int(input(\"Enter account number: \"))\n",
        "acc_name = input(\"Enter account holder name: \")\n",
        "acc_balance = float(input(\"Enter initial balance: \"))\n",
        "\n",
        "account = BankAccount(acc_number, acc_name, acc_balance)\n",
        "\n",
        "dep = float(input(\"Enter amount to deposit: \"))\n",
        "account.Deposit(dep)\n",
        "\n",
        "wd = float(input(\"Enter amount to withdraw: \"))\n",
        "account.Withdrawal(wd)\n",
        "\n",
        "account.bankFees()\n",
        "account.display()\n"
      ],
      "metadata": {
        "colab": {
          "base_uri": "https://localhost:8080/"
        },
        "id": "ncCydBZP3ZFO",
        "outputId": "132135c8-3cc8-46eb-e7c9-7d78d468ca9d"
      },
      "execution_count": 14,
      "outputs": [
        {
          "output_type": "stream",
          "name": "stdout",
          "text": [
            "Enter account number: 65780\n",
            "Enter account holder name: Malavika\n",
            "Enter initial balance: 250000\n",
            "Enter amount to deposit: 30000\n",
            "Enter amount to withdraw: 5000\n",
            "Account Number: 65780\n",
            "Account Holder: Malavika\n",
            "Balance: 261250.0\n"
          ]
        }
      ]
    },
    {
      "cell_type": "code",
      "source": [],
      "metadata": {
        "id": "rGbLe9M23Zov"
      },
      "execution_count": null,
      "outputs": []
    }
  ]
}