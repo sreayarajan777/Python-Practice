{
  "nbformat": 4,
  "nbformat_minor": 0,
  "metadata": {
    "colab": {
      "provenance": [],
      "authorship_tag": "ABX9TyN50fMF86lzQo2PHZrnsZYD",
      "include_colab_link": true
    },
    "kernelspec": {
      "name": "python3",
      "display_name": "Python 3"
    },
    "language_info": {
      "name": "python"
    }
  },
  "cells": [
    {
      "cell_type": "markdown",
      "metadata": {
        "id": "view-in-github",
        "colab_type": "text"
      },
      "source": [
        "<a href=\"https://colab.research.google.com/github/sreayarajan777/Python-Practice/blob/main/intermediate_assessment_.ipynb\" target=\"_parent\"><img src=\"https://colab.research.google.com/assets/colab-badge.svg\" alt=\"Open In Colab\"/></a>"
      ]
    },
    {
      "cell_type": "markdown",
      "source": [
        "Write a python program to check if the entered string is palindrome or\n",
        "not. Get the input string from user (A palindrome is a word, phrase,\n",
        "number, or sequence of characters that reads the same backward as\n",
        "forward)"
      ],
      "metadata": {
        "id": "BMW2QgDgBMyB"
      }
    },
    {
      "cell_type": "code",
      "execution_count": 35,
      "metadata": {
        "colab": {
          "base_uri": "https://localhost:8080/"
        },
        "id": "FTCEtvhWvqZ1",
        "outputId": "6eaa5571-19b4-41be-dc42-9ef6f3c0a881"
      },
      "outputs": [
        {
          "output_type": "stream",
          "name": "stdout",
          "text": [
            "Enter a word:malayalam\n",
            "malayalam is a palidrome\n"
          ]
        }
      ],
      "source": [
        "string=input(\"Enter a word:\")\n",
        "rev=string[::-1]\n",
        "if string==rev:\n",
        "  print(f\"{rev} is a palidrome\")\n",
        "else:\n",
        "  print(f\"{string} is not a palindrome \")\n"
      ]
    },
    {
      "cell_type": "code",
      "source": [
        "string=input(\"Enter a word:\")\n",
        "rev=string[::-1]\n",
        "if string==rev:\n",
        "  print(f\"{rev} is  palidrome\")\n",
        "else:\n",
        "  print(f\"{string} is not  palindrome \")\n"
      ],
      "metadata": {
        "colab": {
          "base_uri": "https://localhost:8080/"
        },
        "id": "SgBaM8f70SGl",
        "outputId": "fdcf7f9d-11fb-404c-dcb0-1adaf252e051"
      },
      "execution_count": 12,
      "outputs": [
        {
          "output_type": "stream",
          "name": "stdout",
          "text": [
            "Enter a word:PYTHON\n",
            "PYTHON is not  palindrome \n"
          ]
        }
      ]
    },
    {
      "cell_type": "markdown",
      "source": [
        "Write a python program to check if the given number is divisible by 9"
      ],
      "metadata": {
        "id": "kDQffff91E4u"
      }
    },
    {
      "cell_type": "code",
      "source": [
        "num=int(input(\"Enter a number:\"))\n",
        "if num%9==0:\n",
        "  print(f\"{num} is divisible by 9.\")\n",
        "else:\n",
        "  print(f\"{num} is not divisible by 9\")\n"
      ],
      "metadata": {
        "colab": {
          "base_uri": "https://localhost:8080/"
        },
        "id": "OsJdzO2E1AV0",
        "outputId": "ae77df86-8135-46a2-920e-e2f49adbaaa3"
      },
      "execution_count": 18,
      "outputs": [
        {
          "output_type": "stream",
          "name": "stdout",
          "text": [
            "Enter a number:78\n",
            "78 is not divisible by 9\n"
          ]
        }
      ]
    },
    {
      "cell_type": "code",
      "source": [
        "num=int(input(\"Enter a number:\"))\n",
        "if num%9==0:\n",
        "  print(f\"{num} is divisible by 9.\")\n",
        "else:\n",
        "  print(f\"{num} is not divisible by 9\")"
      ],
      "metadata": {
        "colab": {
          "base_uri": "https://localhost:8080/"
        },
        "id": "3nbTHnlY6z8p",
        "outputId": "1b76480e-caa8-4db4-d3d4-14320f0e503a"
      },
      "execution_count": 24,
      "outputs": [
        {
          "output_type": "stream",
          "name": "stdout",
          "text": [
            "Enter a number:18\n",
            "18 is divisible by 9.\n"
          ]
        }
      ]
    },
    {
      "cell_type": "markdown",
      "source": [
        "Write a python program to print odd numbers between 300 and 500"
      ],
      "metadata": {
        "id": "kWNoGI_k7xU_"
      }
    },
    {
      "cell_type": "code",
      "source": [
        "for num in range(300,501):\n",
        "  if num%2!=0:\n",
        "    print(num)"
      ],
      "metadata": {
        "colab": {
          "base_uri": "https://localhost:8080/"
        },
        "id": "PKYSPXQF7aCE",
        "outputId": "975a41a4-65ac-4e6b-d4e9-a7652f94eb11"
      },
      "execution_count": 33,
      "outputs": [
        {
          "output_type": "stream",
          "name": "stdout",
          "text": [
            "301\n",
            "303\n",
            "305\n",
            "307\n",
            "309\n",
            "311\n",
            "313\n",
            "315\n",
            "317\n",
            "319\n",
            "321\n",
            "323\n",
            "325\n",
            "327\n",
            "329\n",
            "331\n",
            "333\n",
            "335\n",
            "337\n",
            "339\n",
            "341\n",
            "343\n",
            "345\n",
            "347\n",
            "349\n",
            "351\n",
            "353\n",
            "355\n",
            "357\n",
            "359\n",
            "361\n",
            "363\n",
            "365\n",
            "367\n",
            "369\n",
            "371\n",
            "373\n",
            "375\n",
            "377\n",
            "379\n",
            "381\n",
            "383\n",
            "385\n",
            "387\n",
            "389\n",
            "391\n",
            "393\n",
            "395\n",
            "397\n",
            "399\n",
            "401\n",
            "403\n",
            "405\n",
            "407\n",
            "409\n",
            "411\n",
            "413\n",
            "415\n",
            "417\n",
            "419\n",
            "421\n",
            "423\n",
            "425\n",
            "427\n",
            "429\n",
            "431\n",
            "433\n",
            "435\n",
            "437\n",
            "439\n",
            "441\n",
            "443\n",
            "445\n",
            "447\n",
            "449\n",
            "451\n",
            "453\n",
            "455\n",
            "457\n",
            "459\n",
            "461\n",
            "463\n",
            "465\n",
            "467\n",
            "469\n",
            "471\n",
            "473\n",
            "475\n",
            "477\n",
            "479\n",
            "481\n",
            "483\n",
            "485\n",
            "487\n",
            "489\n",
            "491\n",
            "493\n",
            "495\n",
            "497\n",
            "499\n"
          ]
        }
      ]
    },
    {
      "cell_type": "markdown",
      "source": [
        "Get two numbers from user and print their sum, difference, product and quotient after division"
      ],
      "metadata": {
        "id": "gT-QdeC_8gL-"
      }
    },
    {
      "cell_type": "code",
      "source": [
        "num1=int(input(\"Enter a number:\"))\n",
        "num2=int(input(\"Enter a number:\"))\n",
        "sum_result=num1+num2\n",
        "difference=num1-num2\n",
        "product=num1*num2\n",
        "quotient=num1/num2\n",
        "print(f\"{sum_result}\\n{difference}\\n{product}\\n{quotient}\")"
      ],
      "metadata": {
        "colab": {
          "base_uri": "https://localhost:8080/"
        },
        "id": "SD5jEQf48fQS",
        "outputId": "66a49866-dc50-47d8-8c9c-cd5de13dc5b7"
      },
      "execution_count": 34,
      "outputs": [
        {
          "output_type": "stream",
          "name": "stdout",
          "text": [
            "Enter a number:20\n",
            "Enter a number:10\n",
            "30\n",
            "10\n",
            "200\n",
            "2.0\n"
          ]
        }
      ]
    },
    {
      "cell_type": "markdown",
      "source": [
        "Write a python function to find the product of 2 numbers."
      ],
      "metadata": {
        "id": "g7q-j3ky-eIm"
      }
    },
    {
      "cell_type": "code",
      "source": [
        "num1 = int(input(\"Enter the first number: \"))\n",
        "num2 = int(input(\"Enter the second number: \"))\n",
        "product=num1*num2\n",
        "print(product)\n"
      ],
      "metadata": {
        "colab": {
          "base_uri": "https://localhost:8080/"
        },
        "id": "WVID7Xe3-d2y",
        "outputId": "e1ee0452-ae66-4f4c-b533-cde99732ed6d"
      },
      "execution_count": 31,
      "outputs": [
        {
          "output_type": "stream",
          "name": "stdout",
          "text": [
            "Enter the first number: 3\n",
            "Enter the second number: 2\n",
            "6\n"
          ]
        }
      ]
    }
  ]
}